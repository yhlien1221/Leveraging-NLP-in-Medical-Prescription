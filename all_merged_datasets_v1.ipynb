{
 "cells": [
  {
   "cell_type": "markdown",
   "id": "62aefa44-0f46-4bd7-bc79-f66b78729eca",
   "metadata": {},
   "source": [
    "### Arrange merge_demo_amos"
   ]
  },
  {
   "cell_type": "code",
   "execution_count": 2,
   "id": "57891aca-66de-4aaf-9a3b-be2368a6bb64",
   "metadata": {},
   "outputs": [
    {
     "name": "stderr",
     "output_type": "stream",
     "text": [
      "/var/folders/75/7h76cxjj7f344dm2f0lc6sxw0000gp/T/ipykernel_80969/3090099437.py:14: UserWarning: This pattern is interpreted as a regular expression, and has match groups. To actually get the groups, use str.extract.\n",
      "  merge_demo_amos = merge_demo_amos[merge_demo_amos[\"disease_name\"].str.contains(pattern, case=False, na=False)]\n"
     ]
    },
    {
     "data": {
      "text/plain": [
       "<bound method IndexOpsMixin.tolist of Index(['Unnamed: 0', 'Disease name', 'description', 'Symptoms', 'causes',\n",
       "       'Source', 'table_name', 'Treatment', 'Diagnosis', 'Drugs name',\n",
       "       'medication_url', 'dosage_url', 'prognosis', 'research',\n",
       "       'complications', 'faq', 'url', 'transmission', 'Dosage', 'Age'],\n",
       "      dtype='object')>"
      ]
     },
     "execution_count": 2,
     "metadata": {},
     "output_type": "execute_result"
    }
   ],
   "source": [
    "import pandas as pd\n",
    "merge_demo_amos = pd.read_csv(\"/Users/yhlien/Desktop/cs1101_01/Omdena/NLP in medical/merged data/merged data/merge_demo_amos_v1.csv\")\n",
    "\n",
    "#filte specific diseases for this project\n",
    "disease_list = [\n",
    "    \"Cholera\", \"Lassa fever\", \"Yellow fever\", \"Cerebrospinal meningitis\",\n",
    "    \"Diarrhoea with blood (shigella)\", \"Viral hemorrhagic fevers\", \"Malaria\",\n",
    "    \"Tuberculosis\", \"HIV/AIDS\", \"Diarrheal diseases\", \"Meningitis\", \"Measles\",\n",
    "    \"Ebola\", \"Anthrax\", \"Avian influenza\", \"Diphtheria\", \"Guinea worm disease\",\n",
    "    \"Marburg virus disease\", \"Pertussis\", \"Rabies\", \"Leprosy\"\n",
    "]\n",
    "\n",
    "pattern = \"|\".join(disease_list)\n",
    "merge_demo_amos = merge_demo_amos[merge_demo_amos[\"disease_name\"].str.contains(pattern, case=False, na=False)]\n",
    "merge_demo_amos = merge_demo_amos[~merge_demo_amos[\"disease_name\"].str.contains('vaccine|prophylaxis|prevention', case=False, na=False, regex=True)]\n",
    "\n",
    "\n",
    "###standardize columns name\n",
    "merge_demo_amos.rename(columns={'disease_name': 'Disease name',\n",
    "                               'symptoms': 'Symptoms',\n",
    "                               'diagnosis': 'Diagnosis',\n",
    "                               'source': 'Source',\n",
    "                               'treatment': 'Treatment',\n",
    "                               'medication_name': 'Drugs name'}, inplace=True)\n",
    "\n",
    "## add empty columns for merging all datasets\n",
    "merge_demo_amos[[\"Dosage\",\"Age\"]] = \"\"\n",
    "merge_demo_amos.columns.to_list"
   ]
  },
  {
   "cell_type": "markdown",
   "id": "0608a6ce-b717-42a0-b741-5ad68f8c213e",
   "metadata": {},
   "source": [
    "### Arrange merged_DF_DRUGdotCOM"
   ]
  },
  {
   "cell_type": "code",
   "execution_count": 3,
   "id": "c0549938-960d-47c7-99f9-3d79f0e4ba1f",
   "metadata": {},
   "outputs": [
    {
     "name": "stderr",
     "output_type": "stream",
     "text": [
      "/var/folders/75/7h76cxjj7f344dm2f0lc6sxw0000gp/T/ipykernel_80969/1070068881.py:12: UserWarning: This pattern is interpreted as a regular expression, and has match groups. To actually get the groups, use str.extract.\n",
      "  merged_DF_DRUGdotCOM = merged_DF_DRUGdotCOM[merged_DF_DRUGdotCOM[\"health-condition\"].str.contains(pattern, case=False, na=False)]\n"
     ]
    },
    {
     "data": {
      "text/plain": [
       "<bound method IndexOpsMixin.tolist of Index(['Unnamed: 0', 'Disease name', 'description', 'Diagnosis', 'Treatment',\n",
       "       'Symptoms', 'Drugs name', 'url', 'Heading', 'Content', 'Source',\n",
       "       'Dosage', 'Age'],\n",
       "      dtype='object')>"
      ]
     },
     "execution_count": 3,
     "metadata": {},
     "output_type": "execute_result"
    }
   ],
   "source": [
    "merged_DF_DRUGdotCOM = pd.read_csv(\"/Users/yhlien/Desktop/cs1101_01/Omdena/NLP in medical/merged data/merged data/merged_DF_DRUGdotCOM.csv\")\n",
    "\n",
    "disease_list = [\n",
    "    \"Cholera\", \"Lassa fever\", \"Yellow fever\", \"Cerebrospinal meningitis\",\n",
    "    \"Diarrhoea with blood (shigella)\", \"Viral hemorrhagic fevers\", \"Malaria\",\n",
    "    \"Tuberculosis\", \"HIV/AIDS\", \"Diarrheal diseases\", \"Meningitis\", \"Measles\",\n",
    "    \"Ebola\", \"Anthrax\", \"Avian influenza\", \"Diphtheria\", \"Guinea worm disease\",\n",
    "    \"Marburg virus disease\", \"Pertussis\", \"Rabies\", \"Leprosy\"\n",
    "]\n",
    "\n",
    "pattern = \"|\".join(disease_list)\n",
    "merged_DF_DRUGdotCOM = merged_DF_DRUGdotCOM[merged_DF_DRUGdotCOM[\"health-condition\"].str.contains(pattern, case=False, na=False)]\n",
    "merged_DF_DRUGdotCOM = merged_DF_DRUGdotCOM[~merged_DF_DRUGdotCOM[\"health-condition\"].str.contains('vaccine|prophylaxis|prevention', case=False, na=False, regex=True)]\n",
    "\n",
    "\n",
    "###standardize columns name\n",
    "merged_DF_DRUGdotCOM.rename(columns={'health-condition': 'Disease name',\n",
    "                                'overview': 'description',\n",
    "                               'symptoms': 'Symptoms',\n",
    "                               'diagnosis': 'Diagnosis',\n",
    "                               'treatment': 'Treatment',\n",
    "                               'Medicine Name': 'Drugs name',\n",
    "                               'URL':'url'}, inplace=True)\n",
    "## add source column\n",
    "merged_DF_DRUGdotCOM[\"Source\"] = \"https://www.drugs.com/\"\n",
    "\n",
    "\n",
    "## add empty columns for merging all datasets\n",
    "merged_DF_DRUGdotCOM[[\"Dosage\",\"Age\"]] = \"\"\n",
    "merged_DF_DRUGdotCOM.columns.to_list\n"
   ]
  },
  {
   "cell_type": "markdown",
   "id": "8240d79f-aabc-4044-af27-116f8436a28c",
   "metadata": {},
   "source": [
    "### Arrange merged_df_from_Ariel_yuhui"
   ]
  },
  {
   "cell_type": "code",
   "execution_count": 5,
   "id": "f7e522f1-dfbb-4fd0-9eb8-e42d7844bc75",
   "metadata": {},
   "outputs": [
    {
     "data": {
      "text/plain": [
       "['Disease name',\n",
       " 'Symptoms',\n",
       " 'Drugs name',\n",
       " 'Treatment',\n",
       " 'Dosage',\n",
       " 'Age',\n",
       " 'Source',\n",
       " 'Diagnosis']"
      ]
     },
     "execution_count": 5,
     "metadata": {},
     "output_type": "execute_result"
    }
   ],
   "source": [
    "merged_df_from_Ariel_yuhui = pd.read_csv(\"/Users/yhlien/Desktop/cs1101_01/Omdena/NLP in medical/merged data/merged data/merged_df_from_Ariel_yuhui.csv\")\n",
    "merged_df_from_Ariel_yuhui.columns.to_list()"
   ]
  },
  {
   "cell_type": "markdown",
   "id": "e256d326-f208-4bb5-b0a1-a32d2242ca38",
   "metadata": {},
   "source": [
    "### Merge all datasets"
   ]
  },
  {
   "cell_type": "code",
   "execution_count": 9,
   "id": "e2d0e5ed-dc04-4155-9658-5373ba2d4cef",
   "metadata": {},
   "outputs": [],
   "source": [
    "# Merge multiple datasets with the same column names\n",
    "merged_df = pd.concat([merge_demo_amos,merged_DF_DRUGdotCOM,merged_df_from_Ariel_yuhui], ignore_index=True)\n",
    "merged_df.to_csv(\"/Users/yhlien/Desktop/cs1101_01/Omdena/NLP in medical/merged data/merged data/all_merged_datasets_v2.csv\", index=False)"
   ]
  },
  {
   "cell_type": "code",
   "execution_count": null,
   "id": "6bdc29fd-74f2-454f-b3a9-b093fc08cf28",
   "metadata": {},
   "outputs": [],
   "source": [
    "### Delete duplicates\n",
    "\n",
    "\n",
    "### unify disease name\n"
   ]
  }
 ],
 "metadata": {
  "kernelspec": {
   "display_name": "Python 3 (ipykernel)",
   "language": "python",
   "name": "python3"
  },
  "language_info": {
   "codemirror_mode": {
    "name": "ipython",
    "version": 3
   },
   "file_extension": ".py",
   "mimetype": "text/x-python",
   "name": "python",
   "nbconvert_exporter": "python",
   "pygments_lexer": "ipython3",
   "version": "3.12.5"
  }
 },
 "nbformat": 4,
 "nbformat_minor": 5
}
