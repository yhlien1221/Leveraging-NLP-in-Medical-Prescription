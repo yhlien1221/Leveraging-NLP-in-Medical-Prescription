{
 "cells": [
  {
   "cell_type": "markdown",
   "id": "62aefa44-0f46-4bd7-bc79-f66b78729eca",
   "metadata": {},
   "source": [
    "### Arrange merge_demo_amos"
   ]
  },
  {
   "cell_type": "code",
   "execution_count": 3,
   "id": "57891aca-66de-4aaf-9a3b-be2368a6bb64",
   "metadata": {},
   "outputs": [
    {
     "name": "stderr",
     "output_type": "stream",
     "text": [
      "/var/folders/75/7h76cxjj7f344dm2f0lc6sxw0000gp/T/ipykernel_81420/3090099437.py:14: UserWarning: This pattern is interpreted as a regular expression, and has match groups. To actually get the groups, use str.extract.\n",
      "  merge_demo_amos = merge_demo_amos[merge_demo_amos[\"disease_name\"].str.contains(pattern, case=False, na=False)]\n"
     ]
    },
    {
     "data": {
      "text/plain": [
       "<bound method IndexOpsMixin.tolist of Index(['Unnamed: 0', 'Disease name', 'description', 'Symptoms', 'causes',\n",
       "       'Source', 'table_name', 'Treatment', 'Diagnosis', 'Drugs name',\n",
       "       'medication_url', 'dosage_url', 'prognosis', 'research',\n",
       "       'complications', 'faq', 'url', 'transmission', 'Dosage', 'Age'],\n",
       "      dtype='object')>"
      ]
     },
     "execution_count": 3,
     "metadata": {},
     "output_type": "execute_result"
    }
   ],
   "source": [
    "import pandas as pd\n",
    "merge_demo_amos = pd.read_csv(\"/Users/yhlien/Desktop/cs1101_01/Omdena/NLP in medical/merged data/merged data/merge_demo_amos_v1.csv\")\n",
    "\n",
    "#filte specific diseases for this project\n",
    "disease_list = [\n",
    "    \"Cholera\", \"Lassa fever\", \"Yellow fever\", \"Cerebrospinal meningitis\",\n",
    "    \"Diarrhoea with blood (shigella)\", \"Viral hemorrhagic fevers\", \"Malaria\",\n",
    "    \"Tuberculosis\", \"HIV/AIDS\", \"Diarrheal diseases\", \"Meningitis\", \"Measles\",\n",
    "    \"Ebola\", \"Anthrax\", \"Avian influenza\", \"Diphtheria\", \"Guinea worm disease\",\n",
    "    \"Marburg virus disease\", \"Pertussis\", \"Rabies\", \"Leprosy\"\n",
    "]\n",
    "\n",
    "pattern = \"|\".join(disease_list)\n",
    "merge_demo_amos = merge_demo_amos[merge_demo_amos[\"disease_name\"].str.contains(pattern, case=False, na=False)]\n",
    "merge_demo_amos = merge_demo_amos[~merge_demo_amos[\"disease_name\"].str.contains('vaccine|prophylaxis|prevention', case=False, na=False, regex=True)]\n",
    "\n",
    "\n",
    "###standardize columns name\n",
    "merge_demo_amos.rename(columns={'disease_name': 'Disease name',\n",
    "                               'symptoms': 'Symptoms',\n",
    "                               'diagnosis': 'Diagnosis',\n",
    "                               'source': 'Source',\n",
    "                               'treatment': 'Treatment',\n",
    "                               'medication_name': 'Drugs name'}, inplace=True)\n",
    "\n",
    "## add empty columns for merging all datasets\n",
    "merge_demo_amos[[\"Dosage\",\"Age\"]] = \"\"\n",
    "merge_demo_amos.columns.to_list"
   ]
  },
  {
   "cell_type": "markdown",
   "id": "0608a6ce-b717-42a0-b741-5ad68f8c213e",
   "metadata": {},
   "source": [
    "### Arrange merged_DF_DRUGdotCOM"
   ]
  },
  {
   "cell_type": "code",
   "execution_count": 4,
   "id": "c0549938-960d-47c7-99f9-3d79f0e4ba1f",
   "metadata": {},
   "outputs": [
    {
     "name": "stderr",
     "output_type": "stream",
     "text": [
      "/var/folders/75/7h76cxjj7f344dm2f0lc6sxw0000gp/T/ipykernel_81420/1070068881.py:12: UserWarning: This pattern is interpreted as a regular expression, and has match groups. To actually get the groups, use str.extract.\n",
      "  merged_DF_DRUGdotCOM = merged_DF_DRUGdotCOM[merged_DF_DRUGdotCOM[\"health-condition\"].str.contains(pattern, case=False, na=False)]\n"
     ]
    },
    {
     "data": {
      "text/plain": [
       "<bound method IndexOpsMixin.tolist of Index(['Unnamed: 0', 'Disease name', 'description', 'Diagnosis', 'Treatment',\n",
       "       'Symptoms', 'Drugs name', 'url', 'Heading', 'Content', 'Source',\n",
       "       'Dosage', 'Age'],\n",
       "      dtype='object')>"
      ]
     },
     "execution_count": 4,
     "metadata": {},
     "output_type": "execute_result"
    }
   ],
   "source": [
    "merged_DF_DRUGdotCOM = pd.read_csv(\"/Users/yhlien/Desktop/cs1101_01/Omdena/NLP in medical/merged data/merged data/merged_DF_DRUGdotCOM.csv\")\n",
    "\n",
    "disease_list = [\n",
    "    \"Cholera\", \"Lassa fever\", \"Yellow fever\", \"Cerebrospinal meningitis\",\n",
    "    \"Diarrhoea with blood (shigella)\", \"Viral hemorrhagic fevers\", \"Malaria\",\n",
    "    \"Tuberculosis\", \"HIV/AIDS\", \"Diarrheal diseases\", \"Meningitis\", \"Measles\",\n",
    "    \"Ebola\", \"Anthrax\", \"Avian influenza\", \"Diphtheria\", \"Guinea worm disease\",\n",
    "    \"Marburg virus disease\", \"Pertussis\", \"Rabies\", \"Leprosy\"\n",
    "]\n",
    "\n",
    "pattern = \"|\".join(disease_list)\n",
    "merged_DF_DRUGdotCOM = merged_DF_DRUGdotCOM[merged_DF_DRUGdotCOM[\"health-condition\"].str.contains(pattern, case=False, na=False)]\n",
    "merged_DF_DRUGdotCOM = merged_DF_DRUGdotCOM[~merged_DF_DRUGdotCOM[\"health-condition\"].str.contains('vaccine|prophylaxis|prevention', case=False, na=False, regex=True)]\n",
    "\n",
    "\n",
    "###standardize columns name\n",
    "merged_DF_DRUGdotCOM.rename(columns={'health-condition': 'Disease name',\n",
    "                                'overview': 'description',\n",
    "                               'symptoms': 'Symptoms',\n",
    "                               'diagnosis': 'Diagnosis',\n",
    "                               'treatment': 'Treatment',\n",
    "                               'Medicine Name': 'Drugs name',\n",
    "                               'URL':'url'}, inplace=True)\n",
    "## add source column\n",
    "merged_DF_DRUGdotCOM[\"Source\"] = \"https://www.drugs.com/\"\n",
    "\n",
    "\n",
    "## add empty columns for merging all datasets\n",
    "merged_DF_DRUGdotCOM[[\"Dosage\",\"Age\"]] = \"\"\n",
    "merged_DF_DRUGdotCOM.columns.to_list\n"
   ]
  },
  {
   "cell_type": "markdown",
   "id": "8240d79f-aabc-4044-af27-116f8436a28c",
   "metadata": {},
   "source": [
    "### Arrange merged_df_from_Ariel_yuhui"
   ]
  },
  {
   "cell_type": "code",
   "execution_count": 5,
   "id": "f7e522f1-dfbb-4fd0-9eb8-e42d7844bc75",
   "metadata": {},
   "outputs": [
    {
     "data": {
      "text/plain": [
       "['Disease name',\n",
       " 'Symptoms',\n",
       " 'Drugs name',\n",
       " 'Treatment',\n",
       " 'Dosage',\n",
       " 'Age',\n",
       " 'Source',\n",
       " 'Diagnosis']"
      ]
     },
     "execution_count": 5,
     "metadata": {},
     "output_type": "execute_result"
    }
   ],
   "source": [
    "merged_df_from_Ariel_yuhui = pd.read_csv(\"/Users/yhlien/Desktop/cs1101_01/Omdena/NLP in medical/merged data/merged data/merged_df_from_Ariel_yuhui.csv\")\n",
    "merged_df_from_Ariel_yuhui.columns.to_list()"
   ]
  },
  {
   "cell_type": "markdown",
   "id": "e256d326-f208-4bb5-b0a1-a32d2242ca38",
   "metadata": {},
   "source": [
    "### Merge all datasets"
   ]
  },
  {
   "cell_type": "code",
   "execution_count": 44,
   "id": "e2d0e5ed-dc04-4155-9658-5373ba2d4cef",
   "metadata": {},
   "outputs": [],
   "source": [
    "# Merge multiple datasets with the same column names\n",
    "merged_df = pd.concat([merge_demo_amos,merged_DF_DRUGdotCOM,merged_df_from_Ariel_yuhui], ignore_index=True)\n",
    "#merged_df.to_csv(\"/Users/yhlien/Desktop/cs1101_01/Omdena/NLP in medical/merged data/merged data/all_merged_datasets_v2.csv\", index=False)"
   ]
  },
  {
   "cell_type": "markdown",
   "id": "fb3e8592-8367-4465-a495-6dcf55ff204e",
   "metadata": {},
   "source": [
    "### Data cleaning"
   ]
  },
  {
   "cell_type": "code",
   "execution_count": 45,
   "id": "6a95362e-5818-44ba-b726-73b3b28f866f",
   "metadata": {},
   "outputs": [],
   "source": [
    "import numpy as np\n",
    "# unify names in 'Source'\n",
    "merged_df['Source'] = np.where(merged_df['Source'].isin(['https://www.cdc.gov', 'CDC-gov','https://wwwnc.cdc.gov','https://www.cdc.gov/malaria/index.html']), \n",
    "                        'https://www.cdc.gov/', \n",
    "                        np.where(merged_df['Source'] == 'drugs-com', \n",
    "                                 'https://www.drugs.com/', \n",
    "                            np.where(merged_df['Source'] == 'ncdc-gov', \n",
    "                                 'https://ncdc.gov.ng',\n",
    "                               np.where(merged_df['Source'] == 'Cleveland', \n",
    "                                 'https://my.clevelandclinic.org/health/diseases?dFR[type][0]=diseases',\n",
    "                                  np.where(merged_df['Source'] == 'mayo-clinic', \n",
    "                                 'https://www.mayoclinic.org/diseases-conditions',     \n",
    "                                 merged_df['Source'])))))\n",
    "\n",
    "\n",
    "#unify names in 'Disease name'\n",
    "# Define a mapping to standardize disease names\n",
    "disease_mapping = {\n",
    "    # Anthrax variations\n",
    "    'anthrax (bacillus anthracis)': 'anthrax',\n",
    "    'anthrax blood test': 'anthrax',\n",
    "    'anthrax, cutaneous': 'anthrax',\n",
    "    'anthrax, inhalation': 'anthrax',\n",
    "    'anthrax, skin': 'anthrax',\n",
    "    'cutaneous anthrax': 'anthrax',\n",
    "    'inhalation anthrax': 'anthrax',\n",
    "    'Anthrax': 'anthrax',\n",
    "\n",
    "    # Tuberculosis variations\n",
    "    'adrenal tuberculosis': 'tuberculosis',\n",
    "    'cns tuberculosis': 'tuberculosis',\n",
    "    'disseminated tuberculosis': 'tuberculosis',\n",
    "    'extrapulmonary tuberculosis': 'tuberculosis',\n",
    "    'miliary tuberculosis': 'tuberculosis',\n",
    "    'ocular tuberculosis': 'tuberculosis',\n",
    "    'pulmonary tuberculosis': 'tuberculosis',\n",
    "    'tb (tuberculosis) skin test': 'tuberculosis',\n",
    "    'tuberculosis (tb)': 'tuberculosis',\n",
    "    'tuberculosis, active': 'tuberculosis',\n",
    "    'tuberculosis, disseminated': 'tuberculosis',\n",
    "    'tuberculosis, extrapulmonary': 'tuberculosis',\n",
    "    'tuberculosis, hiv negative': 'tuberculosis',\n",
    "    'tuberculosis, hiv positive': 'tuberculosis',\n",
    "    'tuberculosis, hiv status unknown': 'tuberculosis',\n",
    "    'tuberculosis, latent': 'tuberculosis',\n",
    "    'tuberculosis, resistant': 'tuberculosis',\n",
    "    'tuberculosis, urinary tract': 'tuberculosis',\n",
    "    'tuberculous meningitis': 'tuberculosis',\n",
    "    'Tuberculosis': 'tuberculosis',\n",
    "    'taking medicines to treat tuberculosis':'tuberculosis',\n",
    "\n",
    "    # Meningitis variations\n",
    "    'aspergillosis, meningitis': 'meningitis',\n",
    "    'aspergillosis, meningitis with 5-fc': 'meningitis',\n",
    "    'bacterial meningitis': 'meningitis',\n",
    "    'bacterial meningitis in children': 'meningitis',\n",
    "    'coccidioidomycosis, meningitis': 'meningitis',\n",
    "    'cryptococcal meningitis': 'meningitis',\n",
    "    'cryptococcal meningitis, immunocompetent host': 'meningitis',\n",
    "    'cryptococcal meningitis, immunosuppressed host': 'meningitis',\n",
    "    'fungal meningitis': 'meningitis',\n",
    "    'Fungal Meningitis': 'meningitis',\n",
    "    'gram-negative meningitis': 'meningitis',\n",
    "    'h influenzae meningitis': 'meningitis',\n",
    "    'herpes zoster meningitis': 'meningitis',\n",
    "    'histoplasmosis, meningitis': 'meningitis',\n",
    "    'meningitis - cryptococcal': 'meningitis',\n",
    "    'meningitis - tuberculous': 'meningitis',\n",
    "    'meningitis, haemophilus influenzae': 'meningitis',\n",
    "    'meningitis, listeriosis': 'meningitis',\n",
    "    'meningitis, lymphomatous': 'meningitis',\n",
    "    'meningitis, meningococcal': 'meningitis',\n",
    "    'meningitis, pneumococcal': 'meningitis',\n",
    "    'meningitis, streptococcus group b': 'meningitis',\n",
    "    'meningococcal meningitis': 'meningitis',\n",
    "    'pneumococcal meningitis': 'meningitis',\n",
    "    'staphylococcal meningitis': 'meningitis',\n",
    "    'syphilitic aseptic meningitis': 'meningitis',\n",
    "    'viral meningitis': 'meningitis',\n",
    "    'viral meningitis in children': 'meningitis',\n",
    "    'Meningococcal Meningitis': 'meningitis',\n",
    "    'Bacterial Meningitis': 'meningitis',\n",
    "    'Bacterial Meningitis in Children': 'meningitis',\n",
    "    'Viral Meningitis': 'meningitis',\n",
    "    'Viral Meningitis in Children': 'meningitis',\n",
    "    'Meningitis': 'meningitis',\n",
    "\n",
    "    # Influenza variations\n",
    "    'avian influenza': 'influenza',\n",
    "    'bird flu (avian influenza)': 'influenza',\n",
    "    'Bird flu (avian influenza)': 'influenza',\n",
    "    'Avian Influenza': 'influenza',\n",
    "\n",
    "    # Ebola variations\n",
    "    'ebola hemorrhagic fever': 'ebola',\n",
    "    'ebola virus disease': 'ebola',\n",
    "    'ebola zaire disease': 'ebola',\n",
    "    'evd (zaire ebolavirus infection)': 'ebola',\n",
    "    'zaire ebolavirus infection': 'ebola',\n",
    "    'Ebola Virus Disease': 'ebola',\n",
    "    'Ebola': 'ebola',\n",
    "\n",
    "    # Leprosy variations\n",
    "    'hansen disease (leprosy)': 'leprosy',\n",
    "    \"leprosy (hansen's disease)\": 'leprosy',\n",
    "    'leprosy, borderline': 'leprosy',\n",
    "    'leprosy, dapsone-resistant': 'leprosy',\n",
    "    'leprosy, dapsone-sensitive': 'leprosy',\n",
    "    'leprosy, erythema nodosum leprosum': 'leprosy',\n",
    "    'leprosy, lepromatous': 'leprosy',\n",
    "    'leprosy, tuberculoid': 'leprosy',\n",
    "    'Hansen’s Disease (Leprosy)': 'leprosy',\n",
    "    'Hansen Disease (Leprosy)': 'leprosy',\n",
    "    'Leprosy': 'leprosy',\n",
    "\n",
    "    # Measles variations\n",
    "    'measles (rubeola)': 'measles',\n",
    "    'measles in adults': 'measles',\n",
    "    'measles in children': 'measles',\n",
    "    'Measles in Adults': 'measles',\n",
    "    'Measles in Children': 'measles',\n",
    "    'Measles': 'measles',\n",
    "\n",
    "    # Pertussis variations\n",
    "    'pertussis in children': 'pertussis',\n",
    "    'whooping cough (pertussis)': 'pertussis',\n",
    "    'Pertussis in Children': 'pertussis',\n",
    "    'Pertussis': 'pertussis',\n",
    "\n",
    "    # Other infectious diseases\n",
    "    'cholera': 'cholera',\n",
    "    'Cholera': 'cholera',\n",
    "    'diphtheria': 'diphtheria',\n",
    "    'diphtheria in children': 'diphtheria',\n",
    "    'Diphtheria': 'diphtheria',\n",
    "    'Diphtheria in Children': 'diphtheria',\n",
    "    'hiv/aids': 'hiv/aids',\n",
    "    'hiv/aids (hiv infection)': 'hiv/aids',\n",
    "    'hiv/aids - resources': 'hiv/aids',\n",
    "    'HIV/AIDS': 'hiv/aids',\n",
    "    'malaria': 'malaria',\n",
    "    'Malaria': 'malaria',\n",
    "    'lassa fever': 'lassa fever',\n",
    "    'Lassa Fever': 'lassa fever',\n",
    "    'marburg virus disease': 'marburg virus disease',\n",
    "    'marburg virus disease mvd': 'marburg virus disease',\n",
    "    'Marburg Virus Disease': 'marburg virus disease',\n",
    "    'yellow fever': 'yellow fever',\n",
    "    'Yellow Fever': 'yellow fever',\n",
    "    'guinea worm disease': 'guinea worm disease',\n",
    "    'Guinea Worm Disease (Dracunculiasis)': 'guinea worm disease',\n",
    "    'viral hemorrhagic fevers': 'viral hemorrhagic fevers',\n",
    "    'Viral hemorrhagic fevers': 'viral hemorrhagic fevers',\n",
    "    'rabies':'Rabies'\n",
    "}\n",
    "\n",
    "# Apply mapping to standardize disease names\n",
    "merged_df['Disease name'] = merged_df['Disease name'].replace(disease_mapping)\n",
    "\n",
    "\n",
    "\n"
   ]
  },
  {
   "cell_type": "code",
   "execution_count": 42,
   "id": "6bdc29fd-74f2-454f-b3a9-b093fc08cf28",
   "metadata": {},
   "outputs": [
    {
     "name": "stderr",
     "output_type": "stream",
     "text": [
      "/var/folders/75/7h76cxjj7f344dm2f0lc6sxw0000gp/T/ipykernel_81420/3338113402.py:3: DeprecationWarning: DataFrameGroupBy.apply operated on the grouping columns. This behavior is deprecated, and in a future version of pandas the grouping columns will be excluded from the operation. Either pass `include_groups=False` to exclude the groupings or explicitly select the grouping columns after groupby to silence this warning.\n",
      "  merged_df = merged_df.groupby(['Disease name', 'Source'], group_keys=False).apply(\n"
     ]
    },
    {
     "data": {
      "text/plain": [
       "(107, 22)"
      ]
     },
     "execution_count": 42,
     "metadata": {},
     "output_type": "execute_result"
    }
   ],
   "source": [
    "### Delete duplicates according to Disease name, symptoms and source\n",
    "# Group by 'Disease name' and 'Source', selecting the row with the most abundant Symptoms data while keeping all columns\n",
    "merged_df = merged_df.groupby(['Disease name', 'Source'], group_keys=False).apply(\n",
    "    lambda group: group.loc[group['Symptoms'].str.len().idxmax()] if group['Symptoms'].notna().any() else group.iloc[0]\n",
    ").reset_index(drop=True)\n"
   ]
  },
  {
   "cell_type": "code",
   "execution_count": null,
   "id": "f7d64f4c-2b0f-43f7-bbde-0b24e7038b5a",
   "metadata": {},
   "outputs": [],
   "source": [
    "### Export data"
   ]
  },
  {
   "cell_type": "code",
   "execution_count": 46,
   "id": "d4e1270e-ceb5-4f6a-b295-07044a87f173",
   "metadata": {},
   "outputs": [],
   "source": [
    "merged_df.to_csv(\"/Users/yhlien/Desktop/cs1101_01/Omdena/NLP in medical/merged data/merged data/all_merged_datasets_v2.csv\", index = False)"
   ]
  },
  {
   "cell_type": "code",
   "execution_count": null,
   "id": "69231e71-25e3-4291-bf63-07fe18adcc0a",
   "metadata": {},
   "outputs": [],
   "source": []
  }
 ],
 "metadata": {
  "kernelspec": {
   "display_name": "Python 3 (ipykernel)",
   "language": "python",
   "name": "python3"
  },
  "language_info": {
   "codemirror_mode": {
    "name": "ipython",
    "version": 3
   },
   "file_extension": ".py",
   "mimetype": "text/x-python",
   "name": "python",
   "nbconvert_exporter": "python",
   "pygments_lexer": "ipython3",
   "version": "3.12.5"
  }
 },
 "nbformat": 4,
 "nbformat_minor": 5
}
