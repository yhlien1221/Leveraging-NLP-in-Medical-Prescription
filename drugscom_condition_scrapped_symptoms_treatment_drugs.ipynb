{
 "cells": [
  {
   "cell_type": "markdown",
   "metadata": {
    "id": "UDMS_FFK-mMk"
   },
   "source": [
    "## Using disease links file to scrap Health Condition\", \"Overview\", \"Diagnosis\", \"Treatment\", \"Symptoms\", \"Drugs Used\" from drugs.com (url with /condition/ only)"
   ]
  },
  {
   "cell_type": "code",
   "execution_count": 16,
   "metadata": {},
   "outputs": [
    {
     "name": "stdout",
     "output_type": "stream",
     "text": [
      "Scraping data from: https://www.drugs.com/condition/adrenal-tuberculosis.html\n",
      "Scraping data from: https://www.drugs.com/condition/inhalation-bacillus-anthracis.html\n",
      "Scraping data from: https://www.drugs.com/condition/inhalation-bacillus-anthracis.html\n",
      "Scraping data from: https://www.drugs.com/condition/inhalation-bacillus-anthracis.html\n",
      "Scraping data from: https://www.drugs.com/condition/aspergillosis-meningitis.html\n",
      "Scraping data from: https://www.drugs.com/condition/aspergillosis-meningitis-with-5-fc.html\n",
      "Scraping data from: https://www.drugs.com/condition/avian-influenza.html\n",
      "Data successfully saved to /Users/yhlien/Desktop/cs1101_01/drugscom_condition_overview_diagnosis_treatment_symptoms_drugs.csv\n"
     ]
    }
   ],
   "source": [
    "# Load the DataFrame containing URLs\n",
    "df_urls = pd.read_csv(\"/Users/yhlien/Desktop/cs1101_01/drugscom_disease_urls.csv\")  #  CSV file path\n",
    "# Remove duplicates based on \"Health Condition\"\n",
    "df_urls = df_urls.drop_duplicates(subset=[\"Disease\"], keep=\"first\")\n",
    "\n",
    "\n",
    "# Ensure the column name matches your CSV structure\n",
    "urls = df_urls[\"link\"].tolist()  # Convert column to a list\n",
    "disease_names = df_urls[\"Disease\"].tolist()  # Disease names\n",
    "\n",
    "# Keywords for diagnosis detection\n",
    "diagnostic_keywords = [\"genetic testing\", \"biomarker\", \"lab test\", \"neurotransmitter\",\n",
    "                        \"enzyme deficiency\", \"mutation\", \"biochemical\", \"diagnosis\"]\n",
    "\n",
    "# Initialize list to store results\n",
    "data = []\n",
    "\n",
    "# Loop through each URL in the DataFrame\n",
    "for disease_name, url in zip(disease_names, urls):\n",
    "    print(f\"Scraping data from: {url}\")\n",
    "\n",
    "    try:\n",
    "        # Send a GET request\n",
    "        response = requests.get(url, timeout=10)\n",
    "        response.raise_for_status()  # Raise an error for bad status codes (4xx, 5xx)\n",
    "        soup = BeautifulSoup(response.content, \"html.parser\")\n",
    "\n",
    "        # Extract disease name (removing \".html\")\n",
    "        # disease_name = \n",
    "        #disease_name = url.split(\"/\")[-1].replace(\"-\", \" \").replace(\".html\", \"\").title()\n",
    "\n",
    "        # Find Overview & Symptoms\n",
    "        overview_section = soup.find(\"div\", class_=\"ddc-expand-read-more\")\n",
    "\n",
    "        # Initialize variables\n",
    "        overview_text = \"Overview not available\"\n",
    "        symptoms_text = \"Symptoms not available\"\n",
    "        diagnostic_info = \"No explicit diagnostic information found.\"\n",
    "        treatment_text = \"Treatment information not available\"\n",
    "        drugs_used = []\n",
    "\n",
    "        if overview_section:\n",
    "            all_paragraphs = overview_section.find_all(\"p\")  \n",
    "\n",
    "            # Extract overview (1st paragraph) and symptoms (3rd paragraph)\n",
    "            if len(all_paragraphs) >= 1:\n",
    "                overview_text = all_paragraphs[0].get_text(strip=True)\n",
    "            if len(all_paragraphs) >= 3:\n",
    "                symptoms_text = all_paragraphs[2].get_text(strip=True)\n",
    "\n",
    "            # Extract diagnostic clues\n",
    "            diagnostic_clues = [para.get_text(strip=True) for para in all_paragraphs \n",
    "                                if any(keyword in para.get_text(strip=True).lower() for keyword in diagnostic_keywords)]\n",
    "            if diagnostic_clues:\n",
    "                diagnostic_info = \" \".join(diagnostic_clues)\n",
    "\n",
    "        # Extract Treatment Section\n",
    "        treatment_section = soup.find(\"h2\", string=\"Treatment\")\n",
    "        if treatment_section:\n",
    "            treatment_paragraphs = []\n",
    "            for sibling in treatment_section.find_next_siblings():\n",
    "                if sibling.name == \"p\":\n",
    "                    treatment_paragraphs.append(sibling.get_text(strip=True))\n",
    "                elif sibling.name == \"h2\":  \n",
    "                    break\n",
    "            if treatment_paragraphs:\n",
    "                treatment_text = \" \".join(treatment_paragraphs)\n",
    "\n",
    "        # Extract Drug Information\n",
    "        generic_name_section = soup.find(\"dt\", string=\"Generic name:\")\n",
    "        generic_name = generic_name_section.find_next_sibling(\"dd\").get_text(strip=True) if generic_name_section else \"Not available\"\n",
    "\n",
    "        brand_name_section = soup.find(\"dt\", string=\"Brand name:\")\n",
    "        brand_name = brand_name_section.find_next_sibling(\"dd\").find(\"span\").get_text(strip=True) if brand_name_section else \"Not available\"\n",
    "\n",
    "        # **Fix: Remove duplicate \"Not available\" entries**\n",
    "        drugs_used = list(set([generic_name, brand_name]))  # Remove duplicates\n",
    "        if \"Not available\" in drugs_used and len(drugs_used) > 1:\n",
    "            drugs_used.remove(\"Not available\")\n",
    "\n",
    "        # Append data to list\n",
    "        data.append([disease_name, overview_text, diagnostic_info, treatment_text, symptoms_text, \", \".join(drugs_used)])\n",
    "\n",
    "    except requests.exceptions.RequestException as e:\n",
    "        print(f\"Error fetching {url}: {e}\")\n",
    "        data.append([url, \"Error fetching data\", \"Error fetching data\", \"Error fetching data\", \"Error fetching data\", \"Error fetching data\"])\n",
    "\n",
    "# Convert to DataFrame\n",
    "df_results = pd.DataFrame(data, columns=[\"Health Condition\", \"Overview\", \"Diagnosis\", \"Treatment\", \"Symptoms\", \"Drugs Used\"])\n",
    "\n",
    "# Save to CSV\n",
    "csv_filename = \"/Users/yhlien/Desktop/cs1101_01/drugscom_condition_overview_diagnosis_treatment_symptoms_drugs.csv\"\n",
    "df_results.to_csv(csv_filename, index=False, encoding=\"utf-8\")\n",
    "\n",
    "print(f\"Data successfully saved to {csv_filename}\")\n"
   ]
  },
  {
   "cell_type": "code",
   "execution_count": null,
   "metadata": {},
   "outputs": [],
   "source": []
  },
  {
   "cell_type": "code",
   "execution_count": null,
   "metadata": {},
   "outputs": [],
   "source": []
  }
 ],
 "metadata": {
  "colab": {
   "provenance": []
  },
  "kernelspec": {
   "display_name": "Python 3 (ipykernel)",
   "language": "python",
   "name": "python3"
  },
  "language_info": {
   "codemirror_mode": {
    "name": "ipython",
    "version": 3
   },
   "file_extension": ".py",
   "mimetype": "text/x-python",
   "name": "python",
   "nbconvert_exporter": "python",
   "pygments_lexer": "ipython3",
   "version": "3.12.5"
  }
 },
 "nbformat": 4,
 "nbformat_minor": 4
}
